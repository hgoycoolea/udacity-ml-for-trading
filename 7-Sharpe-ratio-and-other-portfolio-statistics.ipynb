{
 "cells": [
  {
   "cell_type": "markdown",
   "metadata": {},
   "source": [
    "# 7. Sharpe ratio and other portfolio statistics"
   ]
  },
  {
   "cell_type": "code",
   "execution_count": 1,
   "metadata": {},
   "outputs": [
    {
     "name": "stdout",
     "output_type": "stream",
     "text": [
      "Populating the interactive namespace from numpy and matplotlib\n"
     ]
    }
   ],
   "source": [
    "%pylab inline"
   ]
  },
  {
   "cell_type": "code",
   "execution_count": 2,
   "metadata": {},
   "outputs": [],
   "source": [
    "import pandas as pd"
   ]
  },
  {
   "cell_type": "markdown",
   "metadata": {},
   "source": [
    "## Daily portfolio value"
   ]
  },
  {
   "cell_type": "markdown",
   "metadata": {},
   "source": [
    "Shift focus from indivual stocks to portfolios. Portfolio: allocation of funds to a set of stocks."
   ]
  },
  {
   "cell_type": "code",
   "execution_count": 3,
   "metadata": {},
   "outputs": [],
   "source": [
    "def load_stock(symbol):\n",
    "    df = pd.read_csv(f'data/{symbol}.csv', index_col='Date',\n",
    "                       parse_dates=True, usecols=['Date', 'Adj Close'],\n",
    "                       na_values=['nan'])\n",
    "    df = df.rename(columns={'Adj Close': symbol})\n",
    "    return df"
   ]
  },
  {
   "cell_type": "code",
   "execution_count": 4,
   "metadata": {},
   "outputs": [
    {
     "data": {
      "text/html": [
       "<div>\n",
       "<style scoped>\n",
       "    .dataframe tbody tr th:only-of-type {\n",
       "        vertical-align: middle;\n",
       "    }\n",
       "\n",
       "    .dataframe tbody tr th {\n",
       "        vertical-align: top;\n",
       "    }\n",
       "\n",
       "    .dataframe thead th {\n",
       "        text-align: right;\n",
       "    }\n",
       "</style>\n",
       "<table border=\"1\" class=\"dataframe\">\n",
       "  <thead>\n",
       "    <tr style=\"text-align: right;\">\n",
       "      <th></th>\n",
       "      <th>GLD</th>\n",
       "      <th>AAPL</th>\n",
       "      <th>SPY</th>\n",
       "    </tr>\n",
       "  </thead>\n",
       "  <tbody>\n",
       "    <tr>\n",
       "      <th>2019-03-01</th>\n",
       "      <td>121.879997</td>\n",
       "      <td>172.709381</td>\n",
       "      <td>275.208740</td>\n",
       "    </tr>\n",
       "    <tr>\n",
       "      <th>2019-03-04</th>\n",
       "      <td>121.559998</td>\n",
       "      <td>173.578033</td>\n",
       "      <td>274.207642</td>\n",
       "    </tr>\n",
       "    <tr>\n",
       "      <th>2019-03-05</th>\n",
       "      <td>121.720001</td>\n",
       "      <td>173.262161</td>\n",
       "      <td>273.834717</td>\n",
       "    </tr>\n",
       "    <tr>\n",
       "      <th>2019-03-06</th>\n",
       "      <td>121.610001</td>\n",
       "      <td>172.265228</td>\n",
       "      <td>272.176117</td>\n",
       "    </tr>\n",
       "    <tr>\n",
       "      <th>2019-03-07</th>\n",
       "      <td>121.510002</td>\n",
       "      <td>170.271317</td>\n",
       "      <td>269.899231</td>\n",
       "    </tr>\n",
       "  </tbody>\n",
       "</table>\n",
       "</div>"
      ],
      "text/plain": [
       "                   GLD        AAPL         SPY\n",
       "2019-03-01  121.879997  172.709381  275.208740\n",
       "2019-03-04  121.559998  173.578033  274.207642\n",
       "2019-03-05  121.720001  173.262161  273.834717\n",
       "2019-03-06  121.610001  172.265228  272.176117\n",
       "2019-03-07  121.510002  170.271317  269.899231"
      ]
     },
     "execution_count": 4,
     "metadata": {},
     "output_type": "execute_result"
    }
   ],
   "source": [
    "# Specify a portfolio\n",
    "symbols = ['GLD', 'AAPL', 'SPY']\n",
    "alloc   = [ 0.2,    0.6,    0.2]\n",
    "dates = pd.date_range('2019-01-01', '2020-01-01')\n",
    "\n",
    "# Build a df\n",
    "df = pd.DataFrame(index=dates)\n",
    "for symbol in symbols:\n",
    "    symbol_df = load_stock(symbol)\n",
    "    df = df.join(symbol_df, how='inner')\n",
    "df.head()"
   ]
  },
  {
   "cell_type": "code",
   "execution_count": 5,
   "metadata": {},
   "outputs": [],
   "source": [
    "normed = (df / df.iloc[0])\n",
    "alloced = normed * alloc\n",
    "pos_vals = alloced * df.iloc[0]"
   ]
  },
  {
   "cell_type": "code",
   "execution_count": 6,
   "metadata": {},
   "outputs": [
    {
     "data": {
      "text/plain": [
       "2019-03-01    183.043376\n",
       "2019-03-04    183.300348\n",
       "2019-03-05    183.068240\n",
       "2019-03-06    182.116360\n",
       "2019-03-07    180.444637\n",
       "dtype: float64"
      ]
     },
     "execution_count": 6,
     "metadata": {},
     "output_type": "execute_result"
    }
   ],
   "source": [
    "port_val = pos_vals.sum(axis=1)\n",
    "port_val.head()"
   ]
  },
  {
   "cell_type": "code",
   "execution_count": 7,
   "metadata": {},
   "outputs": [
    {
     "data": {
      "text/plain": [
       "Text(0.5, 1.0, 'portfolio value over time')"
      ]
     },
     "execution_count": 7,
     "metadata": {},
     "output_type": "execute_result"
    },
    {
     "data": {
      "image/png": "[encoded data removed]",
      "text/plain": [
       "<Figure size 432x288 with 1 Axes>"
      ]
     },
     "metadata": {
      "needs_background": "light"
     },
     "output_type": "display_data"
    }
   ],
   "source": [
    "port_val.plot()\n",
    "title('portfolio value over time')"
   ]
  },
  {
   "cell_type": "markdown",
   "metadata": {},
   "source": [
    "## Portfolio statistics"
   ]
  },
  {
   "cell_type": "code",
   "execution_count": 8,
   "metadata": {},
   "outputs": [
    {
     "data": {
      "text/plain": [
       "2019-03-01    0.001404\n",
       "2019-03-04   -0.001266\n",
       "2019-03-05   -0.005200\n",
       "2019-03-06   -0.009179\n",
       "2019-03-07    0.002222\n",
       "dtype: float64"
      ]
     },
     "execution_count": 8,
     "metadata": {},
     "output_type": "execute_result"
    }
   ],
   "source": [
    "daily_rets = port_val.shift(-1) / port_val - 1\n",
    "daily_rets.head()"
   ]
  },
  {
   "cell_type": "code",
   "execution_count": 17,
   "metadata": {},
   "outputs": [
    {
     "data": {
      "text/plain": [
       "2019-03-01         NaN\n",
       "2019-03-04    0.001404\n",
       "2019-03-05   -0.001266\n",
       "2019-03-06   -0.005200\n",
       "2019-03-07   -0.009179\n",
       "dtype: float64"
      ]
     },
     "execution_count": 17,
     "metadata": {},
     "output_type": "execute_result"
    }
   ],
   "source": [
    "port_val.pct_change(1).head()"
   ]
  },
  {
   "cell_type": "code",
   "execution_count": 9,
   "metadata": {},
   "outputs": [
    {
     "data": {
      "text/plain": [
       "<matplotlib.axes._subplots.AxesSubplot at 0x1204640f0>"
      ]
     },
     "execution_count": 9,
     "metadata": {},
     "output_type": "execute_result"
    },
    {
     "data": {
      "image/png": "[encoded data removed]",
      "text/plain": [
       "<Figure size 432x288 with 1 Axes>"
      ]
     },
     "metadata": {
      "needs_background": "light"
     },
     "output_type": "display_data"
    }
   ],
   "source": [
    "daily_rets.plot()"
   ]
  },
  {
   "cell_type": "code",
   "execution_count": 10,
   "metadata": {},
   "outputs": [
    {
     "data": {
      "text/plain": [
       "<matplotlib.axes._subplots.AxesSubplot at 0x120586b00>"
      ]
     },
     "execution_count": 10,
     "metadata": {},
     "output_type": "execute_result"
    },
    {
     "data": {
      "image/png": "[encoded data removed]",
      "text/plain": [
       "<Figure size 432x288 with 1 Axes>"
      ]
     },
     "metadata": {
      "needs_background": "light"
     },
     "output_type": "display_data"
    }
   ],
   "source": [
    "daily_rets.hist(bins=20)"
   ]
  },
  {
   "cell_type": "markdown",
   "metadata": {},
   "source": [
    "### Cumulative daily returns"
   ]
  },
  {
   "cell_type": "code",
   "execution_count": 11,
   "metadata": {},
   "outputs": [
    {
     "data": {
      "text/plain": [
       "0.4680936774243061"
      ]
     },
     "execution_count": 11,
     "metadata": {},
     "output_type": "execute_result"
    }
   ],
   "source": [
    "cum_daily_rets = port_val[-1] / port_val[0] - 1\n",
    "cum_daily_rets"
   ]
  },
  {
   "cell_type": "markdown",
   "metadata": {},
   "source": [
    "### Average daily returns"
   ]
  },
  {
   "cell_type": "code",
   "execution_count": 12,
   "metadata": {},
   "outputs": [
    {
     "data": {
      "text/plain": [
       "0.0018736703963118811"
      ]
     },
     "execution_count": 12,
     "metadata": {},
     "output_type": "execute_result"
    }
   ],
   "source": [
    "avg_daily_rets = daily_rets.mean(); avg_daily_rets"
   ]
  },
  {
   "cell_type": "markdown",
   "metadata": {},
   "source": [
    "### Standard deviation of daily returns"
   ]
  },
  {
   "cell_type": "code",
   "execution_count": 13,
   "metadata": {},
   "outputs": [
    {
     "data": {
      "text/plain": [
       "0.010236148478126548"
      ]
     },
     "execution_count": 13,
     "metadata": {},
     "output_type": "execute_result"
    }
   ],
   "source": [
    "std_daily_rets = daily_rets.std(); std_daily_rets"
   ]
  },
  {
   "cell_type": "markdown",
   "metadata": {},
   "source": [
    "### Sharpe ratio\n",
    "\n",
    "\n",
    "#### Intuition\n",
    "sharpe ratio: risk adjusted return.\n",
    "\n",
    "all else being equal:\n",
    "* low risk is better\n",
    "* higher return is better\n",
    "\n",
    "#### Formal definition\n",
    "$R_p$: portfolio return, $R_f$: risk free return, $\\sigma_p$: std of portfolio\n",
    "\n",
    "$$S = \\frac{\\mathbb{E}(R_p - R_f)}{\\text{std}[R_p - R_f]}$$\n",
    "\n",
    "$\\mathbb{E}(R_p - R_f)$ is an expectency, or a forward looking measure of what the sharpe ratio should be. To calculate this in reality, we need to look back at those values. The expected value of the difference is the mean over time.\n",
    "\n",
    "$$S = \\frac{\\text{mean}[R_p - R_f]}{\\text{std}[R_p - R_f]}$$\n",
    "\n",
    "$R_f$ is tipically set to $0$, which gives:\n",
    "\n",
    "$$S = \\frac{\\text{mean}[R_p - R_f]}{\\text{std}[R_p]}$$\n",
    "\n",
    "#### Varying SR\n",
    "\n",
    "SR can vary widely depending on how frequently you sample (daily, monthly, annualy??). SR is an annual measure, so use adjustment factor $K$.\n",
    "\n",
    "$$K = \\sqrt{\\text{# of samples per year}}$$\n",
    "\n",
    "and\n",
    "\n",
    "$$S_\\text{annualized} = K * \\text{SR}$$\n",
    "\n",
    "daily: $K = \\sqrt{255}$, weekly = $\\sqrt{52}$, etc."
   ]
  },
  {
   "cell_type": "code",
   "execution_count": 14,
   "metadata": {},
   "outputs": [
    {
     "data": {
      "text/plain": [
       "2.922985819637687"
      ]
     },
     "execution_count": 14,
     "metadata": {},
     "output_type": "execute_result"
    }
   ],
   "source": [
    "K = np.sqrt(255)\n",
    "sharpe_ratio = K * (daily_rets.mean() - 0) / daily_rets.std()\n",
    "sharpe_ratio"
   ]
  },
  {
   "cell_type": "markdown",
   "metadata": {},
   "source": [
    "https://www.investopedia.com/ask/answers/010815/what-good-sharpe-ratio.asp\n",
    "\n",
    "* A ratio under 1.0 is considered sub-optimal.\n",
    "* Usually, any Sharpe ratio greater than 1.0 is considered acceptable to good by investors.\n",
    "* A ratio higher than 2.0 is rated as very good.\n",
    "* A ratio of 3.0 or higher is considered excellent."
   ]
  }
 ],
 "metadata": {
  "kernelspec": {
   "display_name": "Python 3",
   "language": "python",
   "name": "python3"
  },
  "language_info": {
   "codemirror_mode": {
    "name": "ipython",
    "version": 3
   },
   "file_extension": ".py",
   "mimetype": "text/x-python",
   "name": "python",
   "nbconvert_exporter": "python",
   "pygments_lexer": "ipython3",
   "version": "3.7.1"
  }
 },
 "nbformat": 4,
 "nbformat_minor": 2
}
